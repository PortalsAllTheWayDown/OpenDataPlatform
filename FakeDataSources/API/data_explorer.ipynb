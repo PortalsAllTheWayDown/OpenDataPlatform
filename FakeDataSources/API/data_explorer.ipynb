{
 "cells": [
  {
   "cell_type": "code",
   "execution_count": 2,
   "metadata": {},
   "outputs": [],
   "source": [
    "import duckdb\n",
    "import pandas as pd\n",
    "CSV_FILE_PATH = \"data/airbnb-listings.csv\""
   ]
  },
  {
   "cell_type": "code",
   "execution_count": 6,
   "metadata": {},
   "outputs": [
    {
     "data": {
      "text/plain": [
       "<duckdb.duckdb.DuckDBPyConnection at 0x110e13d70>"
      ]
     },
     "execution_count": 6,
     "metadata": {},
     "output_type": "execute_result"
    }
   ],
   "source": [
    "conn = duckdb.connect('data/airbnb.duckdb')\n",
    "conn.execute(f\"CREATE TABLE IF NOT EXISTS listings AS SELECT * FROM read_csv('{CSV_FILE_PATH}', delim=';', header=true, ignore_errors=true)\")"
   ]
  },
  {
   "cell_type": "code",
   "execution_count": 10,
   "metadata": {},
   "outputs": [
    {
     "name": "stdout",
     "output_type": "stream",
     "text": [
      "Index(['ID', 'Listing Url', 'Scrape ID', 'Last Scraped', 'Name', 'Summary',\n",
      "       'Space', 'Description', 'Experiences Offered', 'Neighborhood Overview',\n",
      "       'Notes', 'Transit', 'Access', 'Interaction', 'House Rules',\n",
      "       'Thumbnail Url', 'Medium Url', 'Picture Url', 'XL Picture Url',\n",
      "       'Host ID', 'Host URL', 'Host Name', 'Host Since', 'Host Location',\n",
      "       'Host About', 'Host Response Time', 'Host Response Rate',\n",
      "       'Host Acceptance Rate', 'Host Thumbnail Url', 'Host Picture Url',\n",
      "       'Host Neighbourhood', 'Host Listings Count',\n",
      "       'Host Total Listings Count', 'Host Verifications', 'Street',\n",
      "       'Neighbourhood', 'Neighbourhood Cleansed',\n",
      "       'Neighbourhood Group Cleansed', 'City', 'State', 'Zipcode', 'Market',\n",
      "       'Smart Location', 'Country Code', 'Country', 'Latitude', 'Longitude',\n",
      "       'Property Type', 'Room Type', 'Accommodates', 'Bathrooms', 'Bedrooms',\n",
      "       'Beds', 'Bed Type', 'Amenities', 'Square Feet', 'Price', 'Weekly Price',\n",
      "       'Monthly Price', 'Security Deposit', 'Cleaning Fee', 'Guests Included',\n",
      "       'Extra People', 'Minimum Nights', 'Maximum Nights', 'Calendar Updated',\n",
      "       'Has Availability', 'Availability 30', 'Availability 60',\n",
      "       'Availability 90', 'Availability 365', 'Calendar last Scraped',\n",
      "       'Number of Reviews', 'First Review', 'Last Review',\n",
      "       'Review Scores Rating', 'Review Scores Accuracy',\n",
      "       'Review Scores Cleanliness', 'Review Scores Checkin',\n",
      "       'Review Scores Communication', 'Review Scores Location',\n",
      "       'Review Scores Value', 'License', 'Jurisdiction Names',\n",
      "       'Cancellation Policy', 'Calculated host listings count',\n",
      "       'Reviews per Month', 'Geolocation', 'Features'],\n",
      "      dtype='object')\n"
     ]
    }
   ],
   "source": [
    "data = conn.execute(\"SELECT * FROM listings USING SAMPLE 3\").df()\n",
    "print(data.columns)"
   ]
  },
  {
   "cell_type": "code",
   "execution_count": null,
   "metadata": {},
   "outputs": [],
   "source": []
  }
 ],
 "metadata": {
  "kernelspec": {
   "display_name": ".venv",
   "language": "python",
   "name": "python3"
  },
  "language_info": {
   "codemirror_mode": {
    "name": "ipython",
    "version": 3
   },
   "file_extension": ".py",
   "mimetype": "text/x-python",
   "name": "python",
   "nbconvert_exporter": "python",
   "pygments_lexer": "ipython3",
   "version": "3.12.1"
  }
 },
 "nbformat": 4,
 "nbformat_minor": 2
}
