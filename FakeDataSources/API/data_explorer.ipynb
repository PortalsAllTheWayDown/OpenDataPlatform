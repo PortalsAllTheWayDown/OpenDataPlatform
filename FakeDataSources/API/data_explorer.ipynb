{
 "cells": [
  {
   "cell_type": "code",
   "execution_count": 15,
   "metadata": {},
   "outputs": [],
   "source": [
    "import duckdb\n",
    "import pandas as pd\n",
    "CSV_FILE_PATH = \"data/airbnb-listings.csv\""
   ]
  },
  {
   "cell_type": "code",
   "execution_count": 16,
   "metadata": {},
   "outputs": [],
   "source": [
    "conn = duckdb.connect('data/airbnb.duckdb')\n",
    "#conn.execute(f\"CREATE TABLE IF NOT EXISTS listings AS SELECT * FROM read_csv('{CSV_FILE_PATH}', delim=';', header=true, ignore_errors=true)\")"
   ]
  },
  {
   "cell_type": "code",
   "execution_count": 17,
   "metadata": {},
   "outputs": [
    {
     "name": "stdout",
     "output_type": "stream",
     "text": [
      "      last_modified_ts\n",
      "0  2017-05-11 00:00:00\n",
      "1  2017-05-03 00:00:00\n",
      "2  2017-04-06 00:00:00\n"
     ]
    }
   ],
   "source": [
    "data = conn.execute('''SELECT last_modified_ts FROM listings USING SAMPLE 3''').df()\n",
    "print(data.head())"
   ]
  },
  {
   "cell_type": "code",
   "execution_count": 18,
   "metadata": {},
   "outputs": [],
   "source": [
    "conn.close()"
   ]
  },
  {
   "cell_type": "code",
   "execution_count": null,
   "metadata": {},
   "outputs": [],
   "source": []
  }
 ],
 "metadata": {
  "kernelspec": {
   "display_name": ".venv",
   "language": "python",
   "name": "python3"
  },
  "language_info": {
   "codemirror_mode": {
    "name": "ipython",
    "version": 3
   },
   "file_extension": ".py",
   "mimetype": "text/x-python",
   "name": "python",
   "nbconvert_exporter": "python",
   "pygments_lexer": "ipython3",
   "version": "3.12.1"
  }
 },
 "nbformat": 4,
 "nbformat_minor": 2
}
